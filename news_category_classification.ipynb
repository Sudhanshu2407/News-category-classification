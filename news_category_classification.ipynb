{
 "cells": [
  {
   "cell_type": "markdown",
   "id": "19c42f4f-d7f4-43f1-a33b-c96aa0850aa5",
   "metadata": {},
   "source": [
    "#### --------------------------------------------------------------------------------------------\n",
    "### Description of the project:\n",
    "\n",
    "##### As the name of the project is news category classification.\n",
    "\n",
    "##### Here we predict the category of the news on the basis of news content.\n",
    "\n",
    "#### ---------------------------------------------------------------------------------------------"
   ]
  },
  {
   "cell_type": "code",
   "execution_count": 1,
   "id": "252f6056-65ec-4008-b148-6dbd91796b53",
   "metadata": {},
   "outputs": [],
   "source": [
    "#Now here we import the important libraries.\n",
    "\n",
    "#Linear algebra.\n",
    "import numpy as np\n",
    "\n",
    "#Data preprocessing(read .csv and other format file).\n",
    "import pandas as pd\n",
    "\n",
    "#Data Visualization.\n",
    "import matplotlib.pyplot as plt\n",
    "\n",
    "#Statistic Visualization.\n",
    "import seaborn as sns\n",
    "\n",
    "#word embedding.\n",
    "from sklearn.feature_extraction.text import CountVectorizer,TfidfVectorizer\n",
    "\n",
    "#Nlp task.\n",
    "import nltk\n",
    "\n",
    "#Regular expression.\n",
    "import re\n",
    "\n",
    "#Stopwords of nltk.\n",
    "from nltk.corpus import stopwords\n",
    "\n",
    "#Wordnetlemmatizer.\n",
    "from nltk.stem import WordNetLemmatizer\n",
    "\n",
    "#Punctuation marks of string.\n",
    "from string import punctuation\n",
    "\n",
    "#Standard scaler.\n",
    "from sklearn.preprocessing import StandardScaler\n",
    "\n",
    "#Multinomial naive bayes.\n",
    "from sklearn.naive_bayes import MultinomialNB\n",
    "\n",
    "#Model statistics.\n",
    "from sklearn.metrics import accuracy_score,confusion_matrix,classification_report\n",
    "\n",
    "#Data saving and loading.\n",
    "import pickle\n",
    "\n",
    "#Json.\n",
    "import json\n",
    "\n",
    "#Warning handler.\n",
    "import warnings\n",
    "\n",
    "#Ignore warnings.\n",
    "warnings.filterwarnings(\"ignore\")"
   ]
  },
  {
   "cell_type": "code",
   "execution_count": 2,
   "id": "e8ed22b0-bb79-4678-b2cb-3613773c104d",
   "metadata": {},
   "outputs": [],
   "source": [
    "#Now here we load the dataset.\n",
    "\n",
    "df=pd.read_csv(r\"english_news_dataset.csv\")"
   ]
  },
  {
   "cell_type": "code",
   "execution_count": 3,
   "id": "b4dd69a6-387c-43b7-9d22-8dde61b32c82",
   "metadata": {},
   "outputs": [
    {
     "data": {
      "text/html": [
       "<div>\n",
       "<style scoped>\n",
       "    .dataframe tbody tr th:only-of-type {\n",
       "        vertical-align: middle;\n",
       "    }\n",
       "\n",
       "    .dataframe tbody tr th {\n",
       "        vertical-align: top;\n",
       "    }\n",
       "\n",
       "    .dataframe thead th {\n",
       "        text-align: right;\n",
       "    }\n",
       "</style>\n",
       "<table border=\"1\" class=\"dataframe\">\n",
       "  <thead>\n",
       "    <tr style=\"text-align: right;\">\n",
       "      <th></th>\n",
       "      <th>Headline</th>\n",
       "      <th>Content</th>\n",
       "      <th>News Categories</th>\n",
       "      <th>Date</th>\n",
       "    </tr>\n",
       "  </thead>\n",
       "  <tbody>\n",
       "    <tr>\n",
       "      <th>0</th>\n",
       "      <td>Congress leader Baljinder Singh shot dead at h...</td>\n",
       "      <td>Congress leader Baljinder Singh was shot dead ...</td>\n",
       "      <td>['national']</td>\n",
       "      <td>19-09-2023</td>\n",
       "    </tr>\n",
       "    <tr>\n",
       "      <th>1</th>\n",
       "      <td>17-year-old girl preparing for NEET dies by su...</td>\n",
       "      <td>Another NEET aspirant died by suicide in Rajas...</td>\n",
       "      <td>['national']</td>\n",
       "      <td>19-09-2023</td>\n",
       "    </tr>\n",
       "    <tr>\n",
       "      <th>2</th>\n",
       "      <td>Hampers to welcome MPs in new Parliament tomor...</td>\n",
       "      <td>In order to mark the first-ever working day of...</td>\n",
       "      <td>['national']</td>\n",
       "      <td>19-09-2023</td>\n",
       "    </tr>\n",
       "    <tr>\n",
       "      <th>3</th>\n",
       "      <td>Only 10% women lawmakers in RS, while only 14%...</td>\n",
       "      <td>Congress President Mallikarjun Kharge, while s...</td>\n",
       "      <td>['national']</td>\n",
       "      <td>19-09-2023</td>\n",
       "    </tr>\n",
       "    <tr>\n",
       "      <th>4</th>\n",
       "      <td>Ganesh temple decorated with notes, coins wort...</td>\n",
       "      <td>The Sri Sathya Ganapathi Temple in Bengaluru a...</td>\n",
       "      <td>['national']</td>\n",
       "      <td>19-09-2023</td>\n",
       "    </tr>\n",
       "  </tbody>\n",
       "</table>\n",
       "</div>"
      ],
      "text/plain": [
       "                                            Headline  \\\n",
       "0  Congress leader Baljinder Singh shot dead at h...   \n",
       "1  17-year-old girl preparing for NEET dies by su...   \n",
       "2  Hampers to welcome MPs in new Parliament tomor...   \n",
       "3  Only 10% women lawmakers in RS, while only 14%...   \n",
       "4  Ganesh temple decorated with notes, coins wort...   \n",
       "\n",
       "                                             Content News Categories  \\\n",
       "0  Congress leader Baljinder Singh was shot dead ...    ['national']   \n",
       "1  Another NEET aspirant died by suicide in Rajas...    ['national']   \n",
       "2  In order to mark the first-ever working day of...    ['national']   \n",
       "3  Congress President Mallikarjun Kharge, while s...    ['national']   \n",
       "4  The Sri Sathya Ganapathi Temple in Bengaluru a...    ['national']   \n",
       "\n",
       "         Date  \n",
       "0  19-09-2023  \n",
       "1  19-09-2023  \n",
       "2  19-09-2023  \n",
       "3  19-09-2023  \n",
       "4  19-09-2023  "
      ]
     },
     "execution_count": 3,
     "metadata": {},
     "output_type": "execute_result"
    }
   ],
   "source": [
    "#Now here we check the top records of dataset.\n",
    "\n",
    "df.head()"
   ]
  },
  {
   "cell_type": "code",
   "execution_count": 4,
   "id": "b3880039-0d3d-4c77-9b10-894892308cd0",
   "metadata": {},
   "outputs": [
    {
     "data": {
      "text/plain": [
       "(199706, 4)"
      ]
     },
     "execution_count": 4,
     "metadata": {},
     "output_type": "execute_result"
    }
   ],
   "source": [
    "#Now here we check the shape of dataset.\n",
    "\n",
    "df.shape"
   ]
  },
  {
   "cell_type": "code",
   "execution_count": 5,
   "id": "25fcc897-532a-4dcd-a471-e4cfb3c1dc7b",
   "metadata": {},
   "outputs": [
    {
     "data": {
      "text/plain": [
       "Headline           0\n",
       "Content            0\n",
       "News Categories    0\n",
       "Date               0\n",
       "dtype: int64"
      ]
     },
     "execution_count": 5,
     "metadata": {},
     "output_type": "execute_result"
    }
   ],
   "source": [
    "#Now here we check the number of null values present in the dataset.\n",
    "\n",
    "df.isnull().sum()"
   ]
  },
  {
   "cell_type": "code",
   "execution_count": 6,
   "id": "71c01593-4aa7-41a8-9be7-5015fb5eeffa",
   "metadata": {},
   "outputs": [
    {
     "name": "stdout",
     "output_type": "stream",
     "text": [
      "Congress leader Baljinder Singh shot dead at home in Punjab's Moga\n",
      "\n",
      "Congress leader Baljinder Singh was shot dead at his house in Punjab's Moga on Monday, a video of which has also surfaced online. According to a report by the Free Press Journal, Singh received a call from someone regarding the signing of documents. In the video, the accused can be seen shooting at Singh while he is walking towards him. \n"
     ]
    }
   ],
   "source": [
    "#Now here we check some values of Headline and content column.\n",
    "\n",
    "print(df[\"Headline\"][0])\n",
    "print()\n",
    "print(df[\"Content\"][0])"
   ]
  },
  {
   "cell_type": "code",
   "execution_count": 7,
   "id": "247e2580-562c-47c8-839a-8b27283a0015",
   "metadata": {},
   "outputs": [
    {
     "name": "stdout",
     "output_type": "stream",
     "text": [
      "Congress leader Baljinder Singh shot dead at home in Punjab's Moga\n",
      "17-year-old girl preparing for NEET dies by suicide in Rajasthan's Kota\n",
      "Hampers to welcome MPs in new Parliament tomorrow, pics surface\n",
      "Only 10% women lawmakers in RS, while only 14% in LS: INC's Kharge\n",
      "Ganesh temple decorated with notes, coins worth ₹2.5 crore in Bengaluru\n"
     ]
    }
   ],
   "source": [
    "#Now here we check some more values of Headline column.\n",
    "\n",
    "for value in df[\"Headline\"][:5]:\n",
    "    print(value)"
   ]
  },
  {
   "cell_type": "code",
   "execution_count": 8,
   "id": "dae967b8-eb3a-49a9-83c5-65eb3f49f565",
   "metadata": {},
   "outputs": [
    {
     "name": "stdout",
     "output_type": "stream",
     "text": [
      "['national']\n",
      "['national']\n",
      "['national']\n",
      "['national']\n",
      "['national']\n"
     ]
    }
   ],
   "source": [
    "#Now here we check the News Categories columns corresponding to above Headlines.\n",
    "\n",
    "for value in df[\"News Categories\"][:5]:\n",
    "    print(value)"
   ]
  },
  {
   "cell_type": "code",
   "execution_count": 9,
   "id": "cd8c9584-1af0-4547-abb0-4f9fa6202e35",
   "metadata": {},
   "outputs": [
    {
     "data": {
      "text/plain": [
       "Index(['Headline', 'Content', 'News Categories', 'Date'], dtype='object')"
      ]
     },
     "execution_count": 9,
     "metadata": {},
     "output_type": "execute_result"
    }
   ],
   "source": [
    "#Now here we check the column names of dataset.\n",
    "\n",
    "df.columns"
   ]
  },
  {
   "cell_type": "code",
   "execution_count": 10,
   "id": "9e4e9089-c94e-4d05-b11d-93794faffd6c",
   "metadata": {},
   "outputs": [],
   "source": [
    "#Here we remove the unuseful or less useful columns.\n",
    "\n",
    "df.drop([\"Content\",\"Date\"],axis=1,inplace=True)"
   ]
  },
  {
   "cell_type": "code",
   "execution_count": 11,
   "id": "59401ada-469d-41b2-9423-9a3863e24e25",
   "metadata": {},
   "outputs": [
    {
     "data": {
      "text/html": [
       "<div>\n",
       "<style scoped>\n",
       "    .dataframe tbody tr th:only-of-type {\n",
       "        vertical-align: middle;\n",
       "    }\n",
       "\n",
       "    .dataframe tbody tr th {\n",
       "        vertical-align: top;\n",
       "    }\n",
       "\n",
       "    .dataframe thead th {\n",
       "        text-align: right;\n",
       "    }\n",
       "</style>\n",
       "<table border=\"1\" class=\"dataframe\">\n",
       "  <thead>\n",
       "    <tr style=\"text-align: right;\">\n",
       "      <th></th>\n",
       "      <th>Headline</th>\n",
       "      <th>News Categories</th>\n",
       "    </tr>\n",
       "  </thead>\n",
       "  <tbody>\n",
       "    <tr>\n",
       "      <th>0</th>\n",
       "      <td>Congress leader Baljinder Singh shot dead at h...</td>\n",
       "      <td>['national']</td>\n",
       "    </tr>\n",
       "    <tr>\n",
       "      <th>1</th>\n",
       "      <td>17-year-old girl preparing for NEET dies by su...</td>\n",
       "      <td>['national']</td>\n",
       "    </tr>\n",
       "    <tr>\n",
       "      <th>2</th>\n",
       "      <td>Hampers to welcome MPs in new Parliament tomor...</td>\n",
       "      <td>['national']</td>\n",
       "    </tr>\n",
       "    <tr>\n",
       "      <th>3</th>\n",
       "      <td>Only 10% women lawmakers in RS, while only 14%...</td>\n",
       "      <td>['national']</td>\n",
       "    </tr>\n",
       "    <tr>\n",
       "      <th>4</th>\n",
       "      <td>Ganesh temple decorated with notes, coins wort...</td>\n",
       "      <td>['national']</td>\n",
       "    </tr>\n",
       "  </tbody>\n",
       "</table>\n",
       "</div>"
      ],
      "text/plain": [
       "                                            Headline News Categories\n",
       "0  Congress leader Baljinder Singh shot dead at h...    ['national']\n",
       "1  17-year-old girl preparing for NEET dies by su...    ['national']\n",
       "2  Hampers to welcome MPs in new Parliament tomor...    ['national']\n",
       "3  Only 10% women lawmakers in RS, while only 14%...    ['national']\n",
       "4  Ganesh temple decorated with notes, coins wort...    ['national']"
      ]
     },
     "execution_count": 11,
     "metadata": {},
     "output_type": "execute_result"
    }
   ],
   "source": [
    "#Now here we again check the top records of dataset.\n",
    "\n",
    "df.head()"
   ]
  },
  {
   "cell_type": "code",
   "execution_count": 12,
   "id": "5bce1490-5998-4003-955e-324284b30c6a",
   "metadata": {},
   "outputs": [],
   "source": [
    "#Now here we deals with Headline column.\n",
    "\n",
    "#Here we create the object of tfidf vectorizer.\n",
    "tfidf=TfidfVectorizer(stop_words=\"english\")\n",
    "\n",
    "#Here we convert or do the word embedding of Headline column.\n",
    "x=tfidf.fit_transform(df[\"Headline\"])"
   ]
  },
  {
   "cell_type": "code",
   "execution_count": 13,
   "id": "57542b44-ff53-4f59-abb6-edd1e3865f93",
   "metadata": {},
   "outputs": [
    {
     "data": {
      "text/plain": [
       "(199706, 26189)"
      ]
     },
     "execution_count": 13,
     "metadata": {},
     "output_type": "execute_result"
    }
   ],
   "source": [
    "#Now here we check the shape of x.\n",
    "\n",
    "x.shape"
   ]
  },
  {
   "cell_type": "code",
   "execution_count": 14,
   "id": "ee6573dd-ea75-40f3-8c28-ef63dfc68201",
   "metadata": {},
   "outputs": [],
   "source": [
    "#Now here we make the dependent column.\n",
    "\n",
    "y=df[\"News Categories\"]"
   ]
  },
  {
   "cell_type": "code",
   "execution_count": 15,
   "id": "f79801cd-bca1-4d6d-affd-fd342375d0dc",
   "metadata": {},
   "outputs": [],
   "source": [
    "#Now here we split the dataset into train and test data.\n",
    "\n",
    "#Here we import the train test split library.\n",
    "from sklearn.model_selection import train_test_split\n",
    "\n",
    "#Here we split the dataset in the ratio of 80-20%.\n",
    "x_train,x_test,y_train,y_test=train_test_split(x,y,test_size=0.2,random_state=42)"
   ]
  },
  {
   "cell_type": "code",
   "execution_count": 16,
   "id": "f484a9bd-9458-443c-9cf0-67ad43155054",
   "metadata": {},
   "outputs": [
    {
     "name": "stdout",
     "output_type": "stream",
     "text": [
      "The shape of x_train is: (159764, 26189).\n",
      "The shape of x_test is: (39942, 26189).\n",
      "The shape of y_train is: (159764,).\n",
      "The shape of y_test is: (39942,).\n"
     ]
    }
   ],
   "source": [
    "#Now here we check the shape of x_train/test and y_train/test.\n",
    "\n",
    "print(f\"The shape of x_train is: {x_train.shape}.\")\n",
    "\n",
    "print(f\"The shape of x_test is: {x_test.shape}.\")\n",
    "\n",
    "print(f\"The shape of y_train is: {y_train.shape}.\")\n",
    "\n",
    "print(f\"The shape of y_test is: {y_test.shape}.\")"
   ]
  },
  {
   "cell_type": "code",
   "execution_count": 17,
   "id": "c1f37ffc-dd47-4f35-aafe-dd5b0dcad1de",
   "metadata": {},
   "outputs": [],
   "source": [
    "#now here we scaled the data.\n",
    "\n",
    "#Here we create the object of standard scaler.\n",
    "# sc=StandardScaler()\n",
    "\n",
    "#Here we scaled the x_train data.\n",
    "# x_train_sc=sc.fit_transform(x_train)\n",
    "\n",
    "#Here we scaled the x_test data.\n",
    "# x_test_sc=sc.transform(x_test)"
   ]
  },
  {
   "cell_type": "code",
   "execution_count": 18,
   "id": "27fe7116-461e-40d2-98df-97a6864db93b",
   "metadata": {},
   "outputs": [
    {
     "name": "stdout",
     "output_type": "stream",
     "text": [
      "The accuracy of mnc model is: 0.7636072304842021.\n",
      "The bias of mnc model is: 0.7899964948298741.\n",
      "The variance of mnc model is: 0.7636072304842021.\n"
     ]
    }
   ],
   "source": [
    "#Now here we apply multinomial naive bayes classifier.\n",
    "\n",
    "#Here we create the object of multinomial naive bayes classifier.\n",
    "mnc=MultinomialNB()\n",
    "\n",
    "#Here we train the mnc model.\n",
    "mnc.fit(x_train,y_train)\n",
    "\n",
    "#Here we predict the values using mnc.\n",
    "pred_mnc=mnc.predict(x_test)\n",
    "\n",
    "#Here we find the accuracy of mnc model.\n",
    "acc_mnc=accuracy_score(y_test,pred_mnc)\n",
    "print(f\"The accuracy of mnc model is: {acc_mnc}.\")\n",
    "\n",
    "#Here we find the bias of mnc model.\n",
    "bias_mnc=mnc.score(x_train,y_train)\n",
    "print(f\"The bias of mnc model is: {bias_mnc}.\")\n",
    "\n",
    "#Here we find the variance of mnc model.\n",
    "variance_mnc=mnc.score(x_test,y_test)\n",
    "print(f\"The variance of mnc model is: {variance_mnc}.\")"
   ]
  },
  {
   "cell_type": "code",
   "execution_count": 19,
   "id": "678d58c3-4363-42d9-9b6e-1eace4f86bf5",
   "metadata": {},
   "outputs": [],
   "source": [
    "#Now here we apply logistic regression.\n",
    "\n",
    "# #Here we create the object of logistic regression.\n",
    "# from sklearn.linear_model import LogisticRegression\n",
    "# lor=LogisticRegression()\n",
    "\n",
    "# #Here we train the lor model.\n",
    "# lor.fit(x_train,y_train)\n",
    "\n",
    "#Here we predict the values using lor.\n",
    "# pred_lor=lor.predict(x_test)\n",
    "\n",
    "#Here we find the accuracy of lor model.\n",
    "# acc_lor=accuracy_score(y_test,pred_lor)\n",
    "# print(f\"The accuracy of lor model is: {acc_lor}.\")\n",
    "\n",
    "#Here we find the bias of lor model.\n",
    "# bias_lor=lor.score(x_train,y_train)\n",
    "# print(f\"The bias of lor model is: {bias_lor}.\")\n",
    "\n",
    "#Here we find the variance of lor model.\n",
    "# variance_lor=lor.score(x_test,y_test)\n",
    "# print(f\"The variance of lor model is: {variance_lor}.\")"
   ]
  },
  {
   "cell_type": "code",
   "execution_count": 20,
   "id": "d34f1f03-ff4e-462c-90ed-5aaba0429579",
   "metadata": {},
   "outputs": [
    {
     "data": {
      "text/plain": [
       "Index(['Headline', 'News Categories'], dtype='object')"
      ]
     },
     "execution_count": 20,
     "metadata": {},
     "output_type": "execute_result"
    }
   ],
   "source": [
    "#Now here we test one of the input.\n",
    "\n",
    "df.columns"
   ]
  },
  {
   "cell_type": "code",
   "execution_count": 21,
   "id": "6bb41546-6397-43c4-a6e9-79e94e8e34f0",
   "metadata": {},
   "outputs": [
    {
     "name": "stdout",
     "output_type": "stream",
     "text": [
      "Zareen Khan's lawyer issues statement on arrest warrant, says 'she was victim of fraud'\n",
      "\n",
      "['entertainment', 'national']\n"
     ]
    }
   ],
   "source": [
    "#Here we take one of the input.\n",
    "\n",
    "print(df[\"Headline\"][14])\n",
    "print()\n",
    "print(df[\"News Categories\"][14])"
   ]
  },
  {
   "cell_type": "code",
   "execution_count": 22,
   "id": "d1cd61f1-1d5e-4989-b6b6-fd085cee3771",
   "metadata": {},
   "outputs": [
    {
     "name": "stdout",
     "output_type": "stream",
     "text": [
      "The prediction is: ['politics', 'national'].\n"
     ]
    }
   ],
   "source": [
    "#Here we take one input text.\n",
    "\n",
    "input_text=\"Zareen Khan's lawyer issues statement on arrest warrant, says 'she was victim of fraud'\"\n",
    "\n",
    "#Now here we do the embedding.\n",
    "embed_text=tfidf.transform([input_text])\n",
    "\n",
    "#Now here we do the prediction.\n",
    "prediction=mnc.predict(embed_text)[0]\n",
    "\n",
    "print(f\"The prediction is: {prediction}.\")"
   ]
  },
  {
   "cell_type": "code",
   "execution_count": 23,
   "id": "586552a8-948d-4450-b9ce-b61c3fef2135",
   "metadata": {},
   "outputs": [],
   "source": [
    "#Now here we save the model and vectorizer.\n",
    "\n",
    "pickle.dump(mnc,open(\"model.pkl\",\"wb\"))\n",
    "\n",
    "pickle.dump(tfidf,open(\"vectorizer.pkl\",\"wb\"))"
   ]
  },
  {
   "cell_type": "code",
   "execution_count": null,
   "id": "f7f4fa99-8a6d-4759-80ab-4a6d85571849",
   "metadata": {},
   "outputs": [],
   "source": []
  },
  {
   "cell_type": "code",
   "execution_count": null,
   "id": "68472fa5-c971-466e-b727-132b7bc6376d",
   "metadata": {},
   "outputs": [],
   "source": []
  },
  {
   "cell_type": "code",
   "execution_count": null,
   "id": "6682f112-d60a-49c9-98a1-6f8e30ddcb5c",
   "metadata": {},
   "outputs": [],
   "source": []
  }
 ],
 "metadata": {
  "kernelspec": {
   "display_name": "Python 3 (ipykernel)",
   "language": "python",
   "name": "python3"
  },
  "language_info": {
   "codemirror_mode": {
    "name": "ipython",
    "version": 3
   },
   "file_extension": ".py",
   "mimetype": "text/x-python",
   "name": "python",
   "nbconvert_exporter": "python",
   "pygments_lexer": "ipython3",
   "version": "3.11.4"
  }
 },
 "nbformat": 4,
 "nbformat_minor": 5
}
